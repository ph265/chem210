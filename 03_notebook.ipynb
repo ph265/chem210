{
 "cells": [
  {
   "cell_type": "markdown",
   "metadata": {},
   "source": [
    "## Using GitHub\n",
    "**GitHub** is a place where coders can store, update and share codes <br>\n",
    "<br>\n",
    "today I'm going to share the chem210 'repository' for this lab with you <br>\n",
    "and then we will 'clone' my repository to your drive, clone just means 'copy'! <br>"
   ]
  },
  {
   "cell_type": "code",
   "execution_count": 3,
   "metadata": {},
   "outputs": [
    {
     "name": "stdout",
     "output_type": "stream",
     "text": [
      "/Users/tricia/Downloads\n",
      "Cloning into 'chem210'...\n",
      "remote: Enumerating objects: 3, done.\u001b[K\n",
      "remote: Counting objects: 100% (3/3), done.\u001b[K\n",
      "remote: Total 3 (delta 0), reused 0 (delta 0), pack-reused 0 (from 0)\u001b[K\n",
      "Receiving objects: 100% (3/3), done.\n",
      "/Users/tricia/Downloads/chem210\n",
      "cp: ehim_cl_631gdp_opt.log: No such file or directory\n"
     ]
    }
   ],
   "source": [
    "#change directory (cd) into where you want the code to download\n",
    "#this is actually a unix command on a directory so it has a '%' in front in jupyter notebooks\n",
    "%cd '/Users/tricia/downloads'\n",
    "#remove the old version if it is there\n",
    "%rm -rf 'chem210'\n",
    "#now copy the repository\n",
    "#the git clone command is a unix command to activate something so we have a '!' in front in jupyter notebooks\n",
    "!git clone https://github.com/ph265/chem210.git\n",
    "#now change directory into the repository folder\n",
    "%cd '/Users/tricia/downloads/chem210'\n",
    "#check we are in the right place!\n",
    "%pwd\n",
    "#now copy an important file out of the repository so we have it available for other sessions\n",
    "#cp is actually another unix command to copy a file\n",
    "%cp ehim_cl_631gdp_opt.log /content/drive/MyDrive/ehim_cl_631gdp_opt.log\n"
   ]
  },
  {
   "cell_type": "code",
   "execution_count": null,
   "metadata": {},
   "outputs": [],
   "source": []
  },
  {
   "cell_type": "code",
   "execution_count": null,
   "metadata": {},
   "outputs": [],
   "source": []
  }
 ],
 "metadata": {
  "kernelspec": {
   "display_name": "Python 3 (ipykernel)",
   "language": "python",
   "name": "python3"
  },
  "language_info": {
   "codemirror_mode": {
    "name": "ipython",
    "version": 3
   },
   "file_extension": ".py",
   "mimetype": "text/x-python",
   "name": "python",
   "nbconvert_exporter": "python",
   "pygments_lexer": "ipython3",
   "version": "3.12.3"
  }
 },
 "nbformat": 4,
 "nbformat_minor": 4
}
